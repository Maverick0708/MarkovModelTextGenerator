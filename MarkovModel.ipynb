{
 "cells": [
  {
   "cell_type": "code",
   "execution_count": 2,
   "id": "bc1b4429",
   "metadata": {},
   "outputs": [],
   "source": [
    "import random\n",
    "from pathlib import Path\n",
    "from sys import getsizeof\n",
    "%matplotlib notebook\n",
    "import matplotlib.pyplot as plt"
   ]
  },
  {
   "cell_type": "code",
   "execution_count": 42,
   "id": "2fe2fac8",
   "metadata": {},
   "outputs": [],
   "source": [
    "text_file = Path('\\\\TrainData.txt')"
   ]
  },
  {
   "cell_type": "code",
   "execution_count": 44,
   "id": "9ff36332",
   "metadata": {},
   "outputs": [
    {
     "name": "stdout",
     "output_type": "stream",
     "text": [
      "File read\n"
     ]
    }
   ],
   "source": [
    "def file_to_words(file: Path):\n",
    "    with file.open(mode='rt', encoding='utf-8') as f:\n",
    "        #print(f.readlines())\n",
    "        return f.readlines()\n",
    "\n",
    "\n",
    "try:\n",
    "    txt=''\n",
    "    testwords = file_to_words(text_file)\n",
    "    for i in testwords:\n",
    "        txt=txt+i\n",
    "\n",
    "except Exception as e:\n",
    "    print(\"Something is wrong with your file\")\n",
    "    print(e)\n",
    "else:\n",
    "    print(\"File read\")"
   ]
  },
  {
   "cell_type": "code",
   "execution_count": 15,
   "id": "372be919",
   "metadata": {},
   "outputs": [],
   "source": [
    "def tuples(words, window_size):\n",
    "    l=[]\n",
    "    for i in range(len(words)-window_size):\n",
    "        l.append(tuple(words[i:i+window_size+1]))\n",
    "    return tuple(l)\n",
    "\n",
    "test_sentence = \"What a lovely day in April\".split()\n",
    "data = list(tuples(test_sentence, 2))[0]\n",
    "assert(data == ('What', 'a', 'lovely'))\n",
    "data = list(tuples(test_sentence, 3))[1]\n",
    "assert(data == ('a', 'lovely', 'day', 'in')) "
   ]
  },
  {
   "cell_type": "code",
   "execution_count": 39,
   "id": "c1070c46",
   "metadata": {},
   "outputs": [],
   "source": [
    "def generate_database(data):\n",
    "    datadb={}\n",
    "    \n",
    "    for i in range(len(data)):\n",
    "        temp=datadb.get(data[i][:-1],[])\n",
    "        datadb[data[i][:-1]]=temp\n",
    "        datadb[data[i][:-1]].append(data[i][-1])\n",
    "\n",
    "    return datadb\n",
    "\n",
    "test_sentence =  txt.split()\n",
    "data = list(tuples(test_sentence, 2))\n",
    "database = generate_database(data)\n"
   ]
  },
  {
   "cell_type": "code",
   "execution_count": 41,
   "id": "874fbba3",
   "metadata": {},
   "outputs": [
    {
     "name": "stdout",
     "output_type": "stream",
     "text": [
      "industry, describes the role of competitive intelligence in different regions. Deadline panic? We're here to rescue and write a custom essay on your first paper The Euromonitor International estimates (Euromonitor, 2011). Market trends can be hectic and inaccurate without proper quality and keeping it monitored at all times. Quality assurance will be used to determine whether such a position will create the much-desired platform from which the business will be easy to consume. The packaging was also aimed at measuring the product’s ability to improve their fitness and health. This was so, especially for people below the age of 30. The brand name also played a key role when choosing which product to buy. Most of the participants say they use a sports product if they were required to ensure these threats don’t hold (Qian, 2008). Due to high levels of revenue in different industries. Competitive intelligence has especially played a key role when choosing which product to a brand or a product. This was evident from the previous year. A further increase in sales and profitability. It is for this reason that the reader understands how the consumption of soft drinks find themselves urgently requiring new products such as high volumes of consumption serve as an advantage. An investor’s financial position plays an important investment to ensure that its customers don’t change preferences when cheaper products become available in many countries, the industry to diversify its markets by introducing more nutritious drinks such as juice, tea and bottled water gain market shares, the soft drinks industry last year. The region’s GDP grew by 5% and production volume in the market, there are major soft drinks contain little or no vitamins, fiber, protein, or other essential nutrients”. (U.S Commercial Service, 2011). Aim of the questionnaires was aimed at establishing the viability of a new product (Garretson, 2007). Launching a new product that has brought about tremendous economic benefits for the business establishment where they can drive some of its expenses and offer its products at competitive prices (Swanson, 2009). This, combined with the manufacturers. Launching a new product will also be confidential and only enough information will be built is based on putting customers’ needs first and ensuring a good indicator of success for a new vitamin-enriched product. Another measure of the industry, a soft drink industry has for a long time now (Prasad, 2010). Energy and sports drinks still command good authority in the global market. Through a survey on the company’s commitment to quality. It is through his analysis that the sports drinks was high and increased levels of revenue in different industries. Competitive intelligence has been the principal customer of producers, have become too much fragmented, a factor contributed by the fact that it remains a flagship brand in all the markets. The sports drinks seems to be paramount in the energy and provide the company will be significant when measuring the product’s success, largely because of the US., 2010). Another emerging trend is mergers by smaller companies to create strategic partnerships that will allow them to gain access to low-cost producers means that the drink will improve their cardio-vascular performance, based on the market and customers information that the price of sports drinks market, it must be able to choose a model that is already working in the retro drink segment after the recent past (Economic Intelligence Unit, 2011). These markets present opportunities for businesses to experiment (Nedja and Ajith, 2010). According to the small players. The situation presents an opportunity for healthy beverages such as Australia, the market and what the respondent thought should be improved. These variables were used to them. Emerging ones however offer businesses an opportunity for any new product (Garretson, 2007). Launching a new product (Garretson, 2007). Launching a new product in a better target market is gaining as much popularity as other soft drinks industry plays a big role in quality assurance by ensuring supplies are available and are likely to switch to other people. Most of the participants pointed out they used the product worked for them and a market strategy (Vaughn, 2008). The new product’s success and quality consistency. The industry has shown tremendous growth in the business’s position in the future after the economic crisis (IEEE Spectrum, 2010). The European region such as V, it will be affected. For this reason, quality has to be associated with many types of diseases such as online marketing. Finally, Fleisher in his article on foods, the author discusses the effects of food intake on body weight. It is through market and establishing the consumers’ response to the small players. The situation presents an opportunity to develop a distribution channel. The other challenge is the high costs of doing so. Being in such a product that people would be largely influenced by brand names. “The threat of substitute products, entry barriers and rivalry among different firms”. It helps to identify a market’s potential and the rest were men, all of the market is still growing and so are market sizes. A recovering economy also offers better opportunities for businesses. They also come with new products and services. “In this industry, logistics management will have to be associated with customers who make the external and internal environment, and the retail channels. Due to high levels of income. A recent study by (Thompson, 2009) reveals that market forces are favorable for profitability” (Morton Research Corporation, 2009). The proliferation of brands and products has in the health industry. The business will need well-developed operations in the survey. The belief factor and what the respondent believed in the drinks (Nash, 2010). Porter’s Five Forces “A porter’s Five analysis of the industry’s modern research projects (Griffins, 2008). The company will be aimed at sustaining quality in the beverages industry, the report points out a case study where the soft drinks producers and bottlers but a new product in the statement is true is likely to suffer other medical complications such as bottled water became common (McMillan, "
     ]
    }
   ],
   "source": [
    "import random\n",
    "def generate_markov_text(prompt: str, database: dict, text_size: int = 1000):\n",
    "    \n",
    "    while text_size > 0:\n",
    "        front=prompt.split()[-2:]\n",
    "        temp=random.choice(database[tuple(front)])\n",
    "        prompt=prompt+\" \"+temp\n",
    "        text_size -= 1\n",
    "        yield temp\n",
    "\n",
    "prompt = 'Give your views on soft drinks'\n",
    "for word in generate_markov_text(prompt, database):\n",
    "    print(word, end=' ')"
   ]
  },
  {
   "cell_type": "code",
   "execution_count": null,
   "id": "2f5f67bc",
   "metadata": {},
   "outputs": [],
   "source": []
  }
 ],
 "metadata": {
  "kernelspec": {
   "display_name": "Python 3 (ipykernel)",
   "language": "python",
   "name": "python3"
  },
  "language_info": {
   "codemirror_mode": {
    "name": "ipython",
    "version": 3
   },
   "file_extension": ".py",
   "mimetype": "text/x-python",
   "name": "python",
   "nbconvert_exporter": "python",
   "pygments_lexer": "ipython3",
   "version": "3.11.3"
  }
 },
 "nbformat": 4,
 "nbformat_minor": 5
}
